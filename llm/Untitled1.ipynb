{
 "cells": [
  {
   "cell_type": "code",
   "execution_count": 1,
   "id": "5c2d6873",
   "metadata": {},
   "outputs": [
    {
     "data": {
      "application/vnd.jupyter.widget-view+json": {
       "model_id": "7917a2dc872b4be993892343a097ead1",
       "version_major": 2,
       "version_minor": 0
      },
      "text/plain": [
       "Loading checkpoint shards:   0%|          | 0/8 [00:00<?, ?it/s]"
      ]
     },
     "metadata": {},
     "output_type": "display_data"
    },
    {
     "name": "stderr",
     "output_type": "stream",
     "text": [
      "The dtype of attention mask (torch.int64) is not bool\n"
     ]
    },
    {
     "name": "stdout",
     "output_type": "stream",
     "text": [
      "你好👋！我是人工智能助手 ChatGLM-6B，很高兴见到你，欢迎问我任何问题。\n",
      "以下时是一些可能有用的建议：\n",
      "\n",
      "1. 确保晚上有充足的睡眠：每晚7-8小时的睡眠是保持健康的重要因素。\n",
      "\n",
      "2. 避免在晚上吃过多的食物或饮用咖啡因和酒精等刺激性饮料：这些物质会刺激胃肠道并影响睡眠。\n",
      "\n",
      "3. 创造一个舒适的睡眠环境：保持房间安静、凉爽和黑暗，使用舒适的床垫和枕头，等等。\n",
      "\n",
      "4. 放松身心：尝试进行一些放松的活动，如冥想、深呼吸、瑜伽、听音乐等等。\n",
      "\n",
      "5. 避免使用电子产品：电子产品中的蓝光可能会影响睡眠质量。在睡觉前 1-2 小时停止使用电子产品。\n",
      "\n",
      "6. 规律锻炼：规律的锻炼可以帮助改善睡眠质量，但要注意在睡前 2-3 小时停止锻炼。\n",
      "\n",
      "7. 寻求医生的帮助：如果以上方法都没有帮助，建议咨询医生以获取更好的建议和治疗方案。\n",
      "\n",
      "希望这些建议能帮助你入睡，并保持好的睡眠质量。\n"
     ]
    }
   ],
   "source": [
    "\n",
    "\n",
    "from transformers import AutoTokenizer, AutoModel\n",
    "\n",
    "path =\"/home/df/g15/codes/ai/data/model/chatglm-6B\"\n",
    "tokenizer = AutoTokenizer.from_pretrained(path, trust_remote_code=True)\n",
    "# model = AutoModel.from_pretrained(path, trust_remote_code=True).half().cuda() \n",
    "\n",
    "# 按需修改，目前只支持 4/8 bit 量化\n",
    "model = AutoModel.from_pretrained(path, trust_remote_code=True).quantize(4).half().cuda()\n",
    "\n",
    "\n",
    "response, history = model.chat(tokenizer, \"你好\", history=[])\n",
    "print(response)\n",
    "response, history = model.chat(tokenizer, \"晚上睡不着应该怎么办\", history=history)\n",
    "print(response)\n"
   ]
  },
  {
   "cell_type": "code",
   "execution_count": 7,
   "id": "b35eed6b",
   "metadata": {},
   "outputs": [
    {
     "name": "stdout",
     "output_type": "stream",
     "text": [
      "这是一个关于一位名叫小明的6岁孩子的故事。\n",
      "\n",
      "小明是一个喜欢野餐的孩子，他有一天决定自己组织一次野餐。他和家人一起制定了一个计划，包括准备食物、布置野餐场地和邀请其他人参加野餐。\n",
      "\n",
      "小明和家人一起完成了这个计划，他们一起准备食物、布置野餐场地和邀请其他人参加野餐。在这个过程中，小明学会了如何组织和安排自己的活动，并且他和他的家人之间的关系也变得更加亲密。\n",
      "\n",
      "最终，小明和他的家人、朋友和其他人一起分享了一顿美味的野餐，他们一起聊天、玩游戏和玩耍。这次野餐让小明学会了如何组织和安排自己的活动，并且他和他的家人之间的关系也变得更加亲密。\n",
      "\n",
      "小明的故事告诉我们，第一次自己去野餐可以让人学会许多新的东西，例如组织和安排自己的活动，以及与家人和朋友之间的关系。这是一个很好的学习机会，可以让我们变得更加独立和自信。\n"
     ]
    }
   ],
   "source": [
    "response, history = model.chat(tokenizer, \"讲一个第一次自己去野餐的故事，6岁孩子听的\", history=history)\n",
    "print(response)\n"
   ]
  }
 ],
 "metadata": {
  "kernelspec": {
   "display_name": "Python 3 (ipykernel)",
   "language": "python",
   "name": "python3"
  },
  "language_info": {
   "codemirror_mode": {
    "name": "ipython",
    "version": 3
   },
   "file_extension": ".py",
   "mimetype": "text/x-python",
   "name": "python",
   "nbconvert_exporter": "python",
   "pygments_lexer": "ipython3",
   "version": "3.11.5"
  }
 },
 "nbformat": 4,
 "nbformat_minor": 5
}
